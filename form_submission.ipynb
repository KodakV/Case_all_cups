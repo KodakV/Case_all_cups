{
  "nbformat": 4,
  "nbformat_minor": 0,
  "metadata": {
    "colab": {
      "name": "Формирование submission .ipynb",
      "provenance": [],
      "collapsed_sections": [],
      "authorship_tag": "ABX9TyMZEvA0l8QAVqpclzpgAcZ/",
      "include_colab_link": true
    },
    "kernelspec": {
      "name": "python3",
      "display_name": "Python 3"
    }
  },
  "cells": [
    {
      "cell_type": "markdown",
      "metadata": {
        "id": "view-in-github",
        "colab_type": "text"
      },
      "source": [
        "<a href=\"https://colab.research.google.com/github/KodakV/Case_all_cups/blob/master/form_submission.ipynb\" target=\"_parent\"><img src=\"https://colab.research.google.com/assets/colab-badge.svg\" alt=\"Open In Colab\"/></a>"
      ]
    },
    {
      "cell_type": "code",
      "metadata": {
        "id": "ST5jG3YESj_u",
        "colab_type": "code",
        "colab": {}
      },
      "source": [
        "import base64\n",
        "!rm -rf 'test_masks'\n",
        "!rm -rf 'val_masks'\n",
        "import cv2\n",
        "from google.colab.patches import cv2_imshow"
      ],
      "execution_count": null,
      "outputs": []
    },
    {
      "cell_type": "code",
      "metadata": {
        "id": "hdfTUSh9Seqh",
        "colab_type": "code",
        "colab": {}
      },
      "source": [
        "import torch\n",
        "import random\n",
        "import numpy as np\n",
        "import pandas as pd\n",
        "import json\n",
        "import base64\n",
        "import os\n",
        "import pylab\n",
        "import torchvision\n",
        "import shutil\n",
        "import matplotlib.pyplot as plt\n",
        "from torchvision import transforms, models\n",
        "from tqdm import tqdm\n",
        "import cv2\n",
        "import pylab\n",
        "random.seed(0)\n",
        "np.random.seed(0)\n",
        "torch.manual_seed(0)\n",
        "torch.cuda.manual_seed(0)\n",
        "torch.backends.cudnn.deterministic = True"
      ],
      "execution_count": null,
      "outputs": []
    },
    {
      "cell_type": "code",
      "metadata": {
        "id": "QQkwoeGTObnY",
        "colab_type": "code",
        "colab": {}
      },
      "source": [
        "# h=512\n",
        "# w=640\n",
        "# mask= np.zeros((h, w), np.uint8)\n",
        "# cv2.fillPoly(mask,[512,640], 255)\n",
        "# cv2.imwrite('/content/current.png', mask)\n",
        "# with open(\"/content/current.png\", \"rb\") as image_file:\n",
        "#   encoded_string = base64.b64encode(image_file.read())\n",
        "#   new_encoded_string=encoded_string.decode('utf-8')\n",
        "#   mask_base64_array.append(new_encoded_string)"
      ],
      "execution_count": null,
      "outputs": []
    },
    {
      "cell_type": "code",
      "metadata": {
        "id": "l10hVkz_Uo1Y",
        "colab_type": "code",
        "colab": {
          "base_uri": "https://localhost:8080/",
          "height": 255
        },
        "outputId": "bae79e86-4801-4ecb-c57c-0e9c2b64edce"
      },
      "source": [
        "submission=pd.read_csv('/content/submission 6.0.csv')\n",
        "print(submission)"
      ],
      "execution_count": null,
      "outputs": [
        {
          "output_type": "stream",
          "text": [
            "      id  ...                          base64 encoded PNG (mask)\n",
            "0      1  ...  iVBORw0KGgoAAAANSUhEUgAAAoAAAAIACAAAAAA3FoInAA...\n",
            "1      2  ...  iVBORw0KGgoAAAANSUhEUgAAAoAAAAIACAAAAAA3FoInAA...\n",
            "2      3  ...  iVBORw0KGgoAAAANSUhEUgAAAoAAAAIACAAAAAA3FoInAA...\n",
            "3      4  ...  iVBORw0KGgoAAAANSUhEUgAAAoAAAAIACAAAAAA3FoInAA...\n",
            "4      5  ...  iVBORw0KGgoAAAANSUhEUgAAAoAAAAIACAAAAAA3FoInAA...\n",
            "..   ...  ...                                                ...\n",
            "102  103  ...  iVBORw0KGgoAAAANSUhEUgAAAoAAAAIACAAAAAA3FoInAA...\n",
            "103  104  ...  iVBORw0KGgoAAAANSUhEUgAAAoAAAAIACAAAAAA3FoInAA...\n",
            "104  105  ...  iVBORw0KGgoAAAANSUhEUgAAAoAAAAIACAAAAAA3FoInAA...\n",
            "105  106  ...  iVBORw0KGgoAAAANSUhEUgAAAoAAAAIACAAAAAA3FoInAA...\n",
            "106  107  ...  iVBORw0KGgoAAAANSUhEUgAAAoAAAAIACAAAAAA3FoInAA...\n",
            "\n",
            "[107 rows x 3 columns]\n"
          ],
          "name": "stdout"
        }
      ]
    },
    {
      "cell_type": "code",
      "metadata": {
        "id": "IG36akJ7WFyJ",
        "colab_type": "code",
        "colab": {
          "base_uri": "https://localhost:8080/",
          "height": 54
        },
        "outputId": "0442d329-0091-447e-a475-c35df6bd881b"
      },
      "source": [
        "id=[]\n",
        "for i in range(1,108):\n",
        "  if i<10:\n",
        "    current_id='00'+'{i}'.format(i=i)\n",
        "  elif i>=10 and i <100:\n",
        "    current_id='0'+'{i}'.format(i=i)\n",
        "  else:\n",
        "    current_id='{i}'.format(i=i)\n",
        "  id.append(current_id)\n",
        "print(id)\n"
      ],
      "execution_count": null,
      "outputs": [
        {
          "output_type": "stream",
          "text": [
            "['001', '002', '003', '004', '005', '006', '007', '008', '009', '010', '011', '012', '013', '014', '015', '016', '017', '018', '019', '020', '021', '022', '023', '024', '025', '026', '027', '028', '029', '030', '031', '032', '033', '034', '035', '036', '037', '038', '039', '040', '041', '042', '043', '044', '045', '046', '047', '048', '049', '050', '051', '052', '053', '054', '055', '056', '057', '058', '059', '060', '061', '062', '063', '064', '065', '066', '067', '068', '069', '070', '071', '072', '073', '074', '075', '076', '077', '078', '079', '080', '081', '082', '083', '084', '085', '086', '087', '088', '089', '090', '091', '092', '093', '094', '095', '096', '097', '098', '099', '100', '101', '102', '103', '104', '105', '106', '107']\n"
          ],
          "name": "stdout"
        }
      ]
    },
    {
      "cell_type": "code",
      "metadata": {
        "id": "K9B81s82XcK5",
        "colab_type": "code",
        "colab": {
          "base_uri": "https://localhost:8080/",
          "height": 450
        },
        "outputId": "00a4dad1-47a1-433e-cc32-019ea1591ba2"
      },
      "source": [
        "submission['id']=id\n",
        "submission.set_index('id', inplace=True)\n",
        "submission_with_segm=pd.read_csv('/content/test_submission 0.8585947233344845.csv')\n",
        "array=submission_with_segm['base64 encoded PNG (mask)']\n",
        "array=np.array(array)\n",
        "# array=np.zeros(107)\n",
        "submission['base64 encoded PNG (mask)']=array\n",
        "submission.to_csv('submission_lb.csv')\n",
        "submission"
      ],
      "execution_count": null,
      "outputs": [
        {
          "output_type": "execute_result",
          "data": {
            "text/html": [
              "<div>\n",
              "<style scoped>\n",
              "    .dataframe tbody tr th:only-of-type {\n",
              "        vertical-align: middle;\n",
              "    }\n",
              "\n",
              "    .dataframe tbody tr th {\n",
              "        vertical-align: top;\n",
              "    }\n",
              "\n",
              "    .dataframe thead th {\n",
              "        text-align: right;\n",
              "    }\n",
              "</style>\n",
              "<table border=\"1\" class=\"dataframe\">\n",
              "  <thead>\n",
              "    <tr style=\"text-align: right;\">\n",
              "      <th></th>\n",
              "      <th>class</th>\n",
              "      <th>base64 encoded PNG (mask)</th>\n",
              "    </tr>\n",
              "    <tr>\n",
              "      <th>id</th>\n",
              "      <th></th>\n",
              "      <th></th>\n",
              "    </tr>\n",
              "  </thead>\n",
              "  <tbody>\n",
              "    <tr>\n",
              "      <th>001</th>\n",
              "      <td>staphylococcus_epidermidis</td>\n",
              "      <td>iVBORw0KGgoAAAANSUhEUgAAAoAAAAIACAAAAAA3FoInAA...</td>\n",
              "    </tr>\n",
              "    <tr>\n",
              "      <th>002</th>\n",
              "      <td>staphylococcus_epidermidis</td>\n",
              "      <td>iVBORw0KGgoAAAANSUhEUgAAAoAAAAIACAAAAAA3FoInAA...</td>\n",
              "    </tr>\n",
              "    <tr>\n",
              "      <th>003</th>\n",
              "      <td>ent_cloacae</td>\n",
              "      <td>iVBORw0KGgoAAAANSUhEUgAAAoAAAAIACAAAAAA3FoInAA...</td>\n",
              "    </tr>\n",
              "    <tr>\n",
              "      <th>004</th>\n",
              "      <td>ent_cloacae</td>\n",
              "      <td>iVBORw0KGgoAAAANSUhEUgAAAoAAAAIACAAAAAA3FoInAA...</td>\n",
              "    </tr>\n",
              "    <tr>\n",
              "      <th>005</th>\n",
              "      <td>ent_cloacae</td>\n",
              "      <td>iVBORw0KGgoAAAANSUhEUgAAAoAAAAIACAAAAAA3FoInAA...</td>\n",
              "    </tr>\n",
              "    <tr>\n",
              "      <th>...</th>\n",
              "      <td>...</td>\n",
              "      <td>...</td>\n",
              "    </tr>\n",
              "    <tr>\n",
              "      <th>103</th>\n",
              "      <td>ent_cloacae</td>\n",
              "      <td>iVBORw0KGgoAAAANSUhEUgAAAoAAAAIACAAAAAA3FoInAA...</td>\n",
              "    </tr>\n",
              "    <tr>\n",
              "      <th>104</th>\n",
              "      <td>ent_cloacae</td>\n",
              "      <td>iVBORw0KGgoAAAANSUhEUgAAAoAAAAIACAAAAAA3FoInAA...</td>\n",
              "    </tr>\n",
              "    <tr>\n",
              "      <th>105</th>\n",
              "      <td>ent_cloacae</td>\n",
              "      <td>iVBORw0KGgoAAAANSUhEUgAAAoAAAAIACAAAAAA3FoInAA...</td>\n",
              "    </tr>\n",
              "    <tr>\n",
              "      <th>106</th>\n",
              "      <td>ent_cloacae</td>\n",
              "      <td>iVBORw0KGgoAAAANSUhEUgAAAoAAAAIACAAAAAA3FoInAA...</td>\n",
              "    </tr>\n",
              "    <tr>\n",
              "      <th>107</th>\n",
              "      <td>ent_cloacae</td>\n",
              "      <td>iVBORw0KGgoAAAANSUhEUgAAAoAAAAIACAAAAAA3FoInAA...</td>\n",
              "    </tr>\n",
              "  </tbody>\n",
              "</table>\n",
              "<p>107 rows × 2 columns</p>\n",
              "</div>"
            ],
            "text/plain": [
              "                          class                          base64 encoded PNG (mask)\n",
              "id                                                                                \n",
              "001  staphylococcus_epidermidis  iVBORw0KGgoAAAANSUhEUgAAAoAAAAIACAAAAAA3FoInAA...\n",
              "002  staphylococcus_epidermidis  iVBORw0KGgoAAAANSUhEUgAAAoAAAAIACAAAAAA3FoInAA...\n",
              "003                 ent_cloacae  iVBORw0KGgoAAAANSUhEUgAAAoAAAAIACAAAAAA3FoInAA...\n",
              "004                 ent_cloacae  iVBORw0KGgoAAAANSUhEUgAAAoAAAAIACAAAAAA3FoInAA...\n",
              "005                 ent_cloacae  iVBORw0KGgoAAAANSUhEUgAAAoAAAAIACAAAAAA3FoInAA...\n",
              "..                          ...                                                ...\n",
              "103                 ent_cloacae  iVBORw0KGgoAAAANSUhEUgAAAoAAAAIACAAAAAA3FoInAA...\n",
              "104                 ent_cloacae  iVBORw0KGgoAAAANSUhEUgAAAoAAAAIACAAAAAA3FoInAA...\n",
              "105                 ent_cloacae  iVBORw0KGgoAAAANSUhEUgAAAoAAAAIACAAAAAA3FoInAA...\n",
              "106                 ent_cloacae  iVBORw0KGgoAAAANSUhEUgAAAoAAAAIACAAAAAA3FoInAA...\n",
              "107                 ent_cloacae  iVBORw0KGgoAAAANSUhEUgAAAoAAAAIACAAAAAA3FoInAA...\n",
              "\n",
              "[107 rows x 2 columns]"
            ]
          },
          "metadata": {
            "tags": []
          },
          "execution_count": 35
        }
      ]
    },
    {
      "cell_type": "code",
      "metadata": {
        "id": "nud_9xJZnCej",
        "colab_type": "code",
        "colab": {}
      },
      "source": [
        "# import numpy as np\n",
        "# X_DIMENSION = 512\n",
        "# Y_DIMENSION = 640\n",
        "# mask_base64_array=[]\n",
        "# for i in range(107):\n",
        "#   mask = np.zeros((X_DIMENSION, Y_DIMENSION))\n",
        "#   cv2.imwrite('/content/current.png', mask)\n",
        "#   with open(\"/content/current.png\", \"rb\") as image_file:\n",
        "#     encoded_string = base64.b64encode(image_file.read())\n",
        "#     new_encoded_string=encoded_string.decode('utf-8')\n",
        "#     mask_base64_array.append(new_encoded_string)\n",
        "# print(len(mask_base64_array))\n",
        "\n",
        "\n",
        "# black_array=np.array(mask_base64_array)\n",
        "# black_submission = pd.DataFrame.from_dict({'base64 encoded PNG (mask)':mask_base64_array})\n",
        "# black_submission.head()\n",
        "# black_submission.to_csv('black_submission.csv')"
      ],
      "execution_count": null,
      "outputs": []
    }
  ]
}