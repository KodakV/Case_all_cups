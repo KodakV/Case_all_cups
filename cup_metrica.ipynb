{
  "nbformat": 4,
  "nbformat_minor": 0,
  "metadata": {
    "colab": {
      "name": "Digital_cup_metrica.ipynb",
      "provenance": [],
      "authorship_tag": "ABX9TyOmqeuHTZjhdyKSnqeZMc32",
      "include_colab_link": true
    },
    "kernelspec": {
      "name": "python3",
      "display_name": "Python 3"
    }
  },
  "cells": [
    {
      "cell_type": "markdown",
      "metadata": {
        "id": "view-in-github",
        "colab_type": "text"
      },
      "source": [
        "<a href=\"https://colab.research.google.com/github/KodakV/Case_all_cups/blob/master/cup_metrica.ipynb\" target=\"_parent\"><img src=\"https://colab.research.google.com/assets/colab-badge.svg\" alt=\"Open In Colab\"/></a>"
      ]
    },
    {
      "cell_type": "code",
      "metadata": {
        "id": "Wzs1UNEsiw5S",
        "colab_type": "code",
        "colab": {}
      },
      "source": [
        "import base64\n",
        "import cv2\n",
        "import json\n",
        "import numpy as np\n",
        "import os\n",
        "import pandas as pd\n",
        "\n",
        "\n",
        "DATASET_PATH = './dataset/test'\n",
        "\n",
        "FILE_FILTER = '.json'\n",
        "\n",
        "LABELS = ['staphylococcus_epidermidis', 'klebsiella_pneumoniae', 'staphylococcus_aureus', 'moraxella_catarrhalis',\n",
        "          'c_kefir', 'ent_cloacae']\n",
        "\n",
        "label_metrics = np.zeros((len(LABELS), len(LABELS)), int)\n",
        "seg_metrics = []\n",
        "df = pd.read_csv('bacteria.csv')\n",
        "\n",
        "\n",
        "def set_metrics(filename):\n",
        "    global label_metrics, seg_metrics, df\n",
        "\n",
        "    with open(os.path.join(DATASET_PATH, filename), 'r') as f:\n",
        "        layout = json.load(f)\n",
        "\n",
        "    h, w = layout['imageHeight'], layout['imageWidth']\n",
        "    true_mask = np.zeros((h, w), np.uint8)\n",
        "    label = layout['shapes'][0]['label']\n",
        "\n",
        "    for shape in layout['shapes']:\n",
        "        polygon = np.array([point[::-1] for point in shape['points']])\n",
        "        cv2.fillPoly(true_mask, [polygon], 255)\n",
        "\n",
        "    ind = int(filename[:-len(FILE_FILTER)]) - 1\n",
        "    new_label = df.at[ind, 'class']\n",
        "    label_metrics[LABELS.index(new_label)][LABELS.index(label)] += 1\n",
        "\n",
        "    with open('tmp_bacteria.png', 'wb') as fp:\n",
        "        fp.write(base64.b64decode(df.at[ind, 'base64 encoded PNG (mask)'].encode()))\n",
        "    mask = cv2.imread('tmp_bacteria.png', 0)\n",
        "    seg_metrics += [np.count_nonzero(np.logical_and(true_mask, mask)) /\n",
        "                    np.count_nonzero(np.logical_or(true_mask, mask))]\n",
        "\n",
        "\n",
        "def calculate_metrics():\n",
        "    mean_iou = np.mean(seg_metrics)\n",
        "\n",
        "    precisions = dict.fromkeys(LABELS, 0.)\n",
        "    for label in LABELS:\n",
        "        i = LABELS.index(label)\n",
        "        precisions[label] = label_metrics[i][i] / np.sum(label_metrics[i, :])\n",
        "    mean_precision = np.mean(list(precisions.values()))\n",
        "\n",
        "    score = mean_iou + np.sum(list(precisions.values()))\n",
        "\n",
        "    print(f'mean_iou: {mean_iou}')\n",
        "    for k, v in precisions.items():\n",
        "        print(f'precision_{k}: {v}')\n",
        "    print(f'mean_precision: {mean_precision}\\nscore: {score}')\n",
        "\n",
        "\n",
        "def main():\n",
        "    files = os.listdir(DATASET_PATH)\n",
        "    for file in filter(lambda x: x[-len(FILE_FILTER):].lower() == FILE_FILTER, files):\n",
        "        set_metrics(file)\n",
        "    calculate_metrics()\n",
        "\n",
        "\n",
        "main()"
      ],
      "execution_count": null,
      "outputs": []
    }
  ]
}